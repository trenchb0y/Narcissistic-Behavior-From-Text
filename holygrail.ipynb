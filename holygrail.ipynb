{
 "cells": [
  {
   "cell_type": "markdown",
   "metadata": {},
   "source": [
    "# Narcissistic behavior prediction using synthetic dataset\n",
    "Dataset was sourced from [this paper](https://www.nature.com/articles/s41597-024-03488-6#Abs1) of which were created through GPT-4 model and has been validated through 14 tests as it claims."
   ]
  },
  {
   "cell_type": "code",
   "execution_count": 89,
   "metadata": {},
   "outputs": [],
   "source": [
    "import pandas as pd\n",
    "import matplotlib as plt\n",
    "import seaborn as sns\n",
    "from langdetect import detect_langs, DetectorFactory\n",
    "from tqdm import tqdm\n",
    "import re\n",
    "import nltk\n",
    "from nltk.corpus import stopwords\n",
    "import string\n",
    "from sklearn.model_selection import train_test_split"
   ]
  },
  {
   "cell_type": "markdown",
   "metadata": {},
   "source": [
    "## Exploratory data analysis"
   ]
  },
  {
   "cell_type": "code",
   "execution_count": 47,
   "metadata": {},
   "outputs": [],
   "source": [
    "df = pd.read_csv('persona_dataset_final.csv', usecols=[\"text\", \"personality\"])"
   ]
  },
  {
   "cell_type": "code",
   "execution_count": null,
   "metadata": {},
   "outputs": [
    {
     "name": "stderr",
     "output_type": "stream",
     "text": [
      "C:\\Users\\Harwira\\AppData\\Local\\Temp\\ipykernel_13860\\2538485853.py:1: FutureWarning: Downcasting behavior in `replace` is deprecated and will be removed in a future version. To retain the old behavior, explicitly call `result.infer_objects(copy=False)`. To opt-in to the future behavior, set `pd.set_option('future.no_silent_downcasting', True)`\n",
      "  df[\"label\"] = df[\"personality\"].replace({\n"
     ]
    }
   ],
   "source": [
    "df[\"label\"] = df[\"personality\"].replace({\n",
    "    \"narcissistic\": 1,\n",
    "    \"psychopathic\": 0,\n",
    "    \"depressive\": 0, \n",
    "    \"obsessional\": 0,\n",
    "    \"paranoid\": 0\n",
    "})"
   ]
  },
  {
   "cell_type": "code",
   "execution_count": 49,
   "metadata": {},
   "outputs": [
    {
     "data": {
      "text/html": [
       "<div>\n",
       "<style scoped>\n",
       "    .dataframe tbody tr th:only-of-type {\n",
       "        vertical-align: middle;\n",
       "    }\n",
       "\n",
       "    .dataframe tbody tr th {\n",
       "        vertical-align: top;\n",
       "    }\n",
       "\n",
       "    .dataframe thead th {\n",
       "        text-align: right;\n",
       "    }\n",
       "</style>\n",
       "<table border=\"1\" class=\"dataframe\">\n",
       "  <thead>\n",
       "    <tr style=\"text-align: right;\">\n",
       "      <th></th>\n",
       "      <th>text</th>\n",
       "      <th>personality</th>\n",
       "      <th>label</th>\n",
       "    </tr>\n",
       "  </thead>\n",
       "  <tbody>\n",
       "    <tr>\n",
       "      <th>0</th>\n",
       "      <td>Just because I failed to meet several appointm...</td>\n",
       "      <td>psychopathic</td>\n",
       "      <td>0</td>\n",
       "    </tr>\n",
       "    <tr>\n",
       "      <th>1</th>\n",
       "      <td>Mira, I don't care if I offended anyone. My op...</td>\n",
       "      <td>psychopathic</td>\n",
       "      <td>0</td>\n",
       "    </tr>\n",
       "    <tr>\n",
       "      <th>2</th>\n",
       "      <td>My clients consider me tough, but I call it be...</td>\n",
       "      <td>psychopathic</td>\n",
       "      <td>0</td>\n",
       "    </tr>\n",
       "    <tr>\n",
       "      <th>3</th>\n",
       "      <td>Seeking pleasure is what life is all about chi...</td>\n",
       "      <td>psychopathic</td>\n",
       "      <td>0</td>\n",
       "    </tr>\n",
       "    <tr>\n",
       "      <th>4</th>\n",
       "      <td>They say I'm irresponsible, as I occasionally ...</td>\n",
       "      <td>psychopathic</td>\n",
       "      <td>0</td>\n",
       "    </tr>\n",
       "    <tr>\n",
       "      <th>5</th>\n",
       "      <td>All these ivory-tower academics blame me for m...</td>\n",
       "      <td>psychopathic</td>\n",
       "      <td>0</td>\n",
       "    </tr>\n",
       "    <tr>\n",
       "      <th>6</th>\n",
       "      <td>Honestly, the pleasantries bore me. I'd rather...</td>\n",
       "      <td>psychopathic</td>\n",
       "      <td>0</td>\n",
       "    </tr>\n",
       "    <tr>\n",
       "      <th>7</th>\n",
       "      <td>My husband says I'm too manipulative, always g...</td>\n",
       "      <td>psychopathic</td>\n",
       "      <td>0</td>\n",
       "    </tr>\n",
       "    <tr>\n",
       "      <th>8</th>\n",
       "      <td>Mis hijos think they can con their mamá... but...</td>\n",
       "      <td>psychopathic</td>\n",
       "      <td>0</td>\n",
       "    </tr>\n",
       "    <tr>\n",
       "      <th>9</th>\n",
       "      <td>I'm utterly sick and tired of them judging me ...</td>\n",
       "      <td>psychopathic</td>\n",
       "      <td>0</td>\n",
       "    </tr>\n",
       "  </tbody>\n",
       "</table>\n",
       "</div>"
      ],
      "text/plain": [
       "                                                text   personality  label\n",
       "0  Just because I failed to meet several appointm...  psychopathic      0\n",
       "1  Mira, I don't care if I offended anyone. My op...  psychopathic      0\n",
       "2  My clients consider me tough, but I call it be...  psychopathic      0\n",
       "3  Seeking pleasure is what life is all about chi...  psychopathic      0\n",
       "4  They say I'm irresponsible, as I occasionally ...  psychopathic      0\n",
       "5  All these ivory-tower academics blame me for m...  psychopathic      0\n",
       "6  Honestly, the pleasantries bore me. I'd rather...  psychopathic      0\n",
       "7  My husband says I'm too manipulative, always g...  psychopathic      0\n",
       "8  Mis hijos think they can con their mamá... but...  psychopathic      0\n",
       "9  I'm utterly sick and tired of them judging me ...  psychopathic      0"
      ]
     },
     "execution_count": 49,
     "metadata": {},
     "output_type": "execute_result"
    }
   ],
   "source": [
    "df.head(10)"
   ]
  },
  {
   "cell_type": "code",
   "execution_count": 50,
   "metadata": {},
   "outputs": [
    {
     "data": {
      "text/plain": [
       "text           0\n",
       "personality    0\n",
       "label          0\n",
       "dtype: int64"
      ]
     },
     "execution_count": 50,
     "metadata": {},
     "output_type": "execute_result"
    }
   ],
   "source": [
    "df.isnull().sum()"
   ]
  },
  {
   "cell_type": "markdown",
   "metadata": {},
   "source": [
    "Taking a look on the dataset, we can see that there are no missing values. We do however might have a problem on the imbalance of the narcissistic class (see the label column) with a ratio of 1 narcissistic label for every 4 non-narcissistic labels. Though, since this degree of imbalance is categorized as a mild according to [Google](https://developers.google.com/machine-learning/crash-course/overfitting/imbalanced-datasets) we will use this imbalance dataset as the baseline result.\n",
    "\n",
    "We can also see that they happen to be a mixed language of texts, such as text contains both English and Spanish."
   ]
  },
  {
   "cell_type": "code",
   "execution_count": 51,
   "metadata": {},
   "outputs": [
    {
     "name": "stdout",
     "output_type": "stream",
     "text": [
      "<class 'pandas.core.frame.DataFrame'>\n",
      "RangeIndex: 4973 entries, 0 to 4972\n",
      "Data columns (total 3 columns):\n",
      " #   Column       Non-Null Count  Dtype \n",
      "---  ------       --------------  ----- \n",
      " 0   text         4973 non-null   object\n",
      " 1   personality  4973 non-null   object\n",
      " 2   label        4973 non-null   int64 \n",
      "dtypes: int64(1), object(2)\n",
      "memory usage: 116.7+ KB\n"
     ]
    }
   ],
   "source": [
    "df.info()"
   ]
  },
  {
   "cell_type": "markdown",
   "metadata": {},
   "source": [
    "## Data pre-process\n",
    "\n",
    "We will follow the general procedure of preprocessing such as lowe casing, removing unnecessary tags, stopwords, punctuations and so on."
   ]
  },
  {
   "cell_type": "markdown",
   "metadata": {},
   "source": [
    "If we actually see through the dataset, we can see that some of the text are just fully written in Spanish, exhibit index 3984 \"siento que mis colegas conspiran en mi contra porque les intimida mi éxito.\" and some contains both Spanish and English, exhibit index 8 \"mis hijos think they can con their mamá... but you see, i'm always two steps ahead, and they will learn with time.\". To handle this, we use a language detector to flag these instances and remove them from the rest."
   ]
  },
  {
   "cell_type": "code",
   "execution_count": 74,
   "metadata": {},
   "outputs": [],
   "source": [
    "DetectorFactory.seed = 42\n",
    "\n",
    "def is_english_text(text):\n",
    "    try:\n",
    "        langs = detect_langs(text)\n",
    "        return langs[0].lang == 'en'\n",
    "    except:\n",
    "        return False"
   ]
  },
  {
   "cell_type": "code",
   "execution_count": 82,
   "metadata": {},
   "outputs": [],
   "source": [
    "df_processed = df.copy()"
   ]
  },
  {
   "cell_type": "code",
   "execution_count": 76,
   "metadata": {},
   "outputs": [
    {
     "name": "stderr",
     "output_type": "stream",
     "text": [
      "100%|██████████| 4973/4973 [00:13<00:00, 359.30it/s]\n"
     ]
    }
   ],
   "source": [
    "tqdm.pandas()\n",
    "df_processed = df_processed[df_processed['text'].progress_apply(is_english_text)]"
   ]
  },
  {
   "cell_type": "markdown",
   "metadata": {},
   "source": [
    "Now we'll do just about the general pipeline of NLP"
   ]
  },
  {
   "cell_type": "code",
   "execution_count": 77,
   "metadata": {},
   "outputs": [],
   "source": [
    "def remove_HUP(text):\n",
    "    text = str(text)\n",
    "    text = re.sub(r'<.*?>', '', text)\n",
    "    text = re.sub(r'https?://\\S+|www\\.\\S+', '', text)\n",
    "    text = text.translate(str.maketrans('', '', string.punctuation))\n",
    "    return text"
   ]
  },
  {
   "cell_type": "code",
   "execution_count": 78,
   "metadata": {},
   "outputs": [],
   "source": [
    "stopword = stopwords.words('english')\n",
    "def remove_stopwords(text):\n",
    "    new_text = []\n",
    "\n",
    "    for word in text.split():\n",
    "        if word in stopword:\n",
    "            new_text.append('')\n",
    "        else:\n",
    "            new_text.append(word)\n",
    "    x = new_text[:]\n",
    "    new_text.clear()\n",
    "    return \" \".join(x)"
   ]
  },
  {
   "cell_type": "code",
   "execution_count": 79,
   "metadata": {},
   "outputs": [],
   "source": [
    "def is_keyboard_character(text):\n",
    "    return bool(re.fullmatch(r\"[\\w\\s!@#$%^&*()_+\\-=\\[\\]{};':\\\"\\\\|,.<>/?`~]+\", text))"
   ]
  },
  {
   "cell_type": "code",
   "execution_count": 84,
   "metadata": {},
   "outputs": [],
   "source": [
    "df_processed['text'] = df_processed['text'].str.lower() # Lowe casing\n",
    "df_processed['text'] = df_processed['text'].apply(remove_HUP)\n",
    "df_processed['text'] = df_processed['text'].apply(remove_stopwords)\n",
    "# df_processed = df_processed[df_processed['text'].apply(is_keyboard_character)]"
   ]
  },
  {
   "cell_type": "markdown",
   "metadata": {},
   "source": [
    "Some visualization for ease of analysis after pre-processing"
   ]
  },
  {
   "cell_type": "code",
   "execution_count": null,
   "metadata": {},
   "outputs": [],
   "source": [
    "df_processed.groupby('label').size().plot(kind='barh', color=sns.palettes.mpl_palette('Dark2'))\n",
    "plt.gca().spines[['top', 'right',]].set_visible(False)"
   ]
  },
  {
   "cell_type": "code",
   "execution_count": 87,
   "metadata": {},
   "outputs": [
    {
     "data": {
      "text/html": [
       "<div>\n",
       "<style scoped>\n",
       "    .dataframe tbody tr th:only-of-type {\n",
       "        vertical-align: middle;\n",
       "    }\n",
       "\n",
       "    .dataframe tbody tr th {\n",
       "        vertical-align: top;\n",
       "    }\n",
       "\n",
       "    .dataframe thead th {\n",
       "        text-align: right;\n",
       "    }\n",
       "</style>\n",
       "<table border=\"1\" class=\"dataframe\">\n",
       "  <thead>\n",
       "    <tr style=\"text-align: right;\">\n",
       "      <th></th>\n",
       "      <th>text</th>\n",
       "      <th>personality</th>\n",
       "      <th>label</th>\n",
       "    </tr>\n",
       "  </thead>\n",
       "  <tbody>\n",
       "    <tr>\n",
       "      <th>0</th>\n",
       "      <td>failed  meet several appointments  week the...</td>\n",
       "      <td>psychopathic</td>\n",
       "      <td>0</td>\n",
       "    </tr>\n",
       "    <tr>\n",
       "      <th>1</th>\n",
       "      <td>mira  dont care   offended anyone  opinions  s...</td>\n",
       "      <td>psychopathic</td>\n",
       "      <td>0</td>\n",
       "    </tr>\n",
       "    <tr>\n",
       "      <th>2</th>\n",
       "      <td>clients consider  tough   call   straightforw...</td>\n",
       "      <td>psychopathic</td>\n",
       "      <td>0</td>\n",
       "    </tr>\n",
       "    <tr>\n",
       "      <th>3</th>\n",
       "      <td>seeking pleasure   life    chico      rules  b...</td>\n",
       "      <td>psychopathic</td>\n",
       "      <td>0</td>\n",
       "    </tr>\n",
       "    <tr>\n",
       "      <th>4</th>\n",
       "      <td>say im irresponsible   occasionally dodge wor...</td>\n",
       "      <td>psychopathic</td>\n",
       "      <td>0</td>\n",
       "    </tr>\n",
       "    <tr>\n",
       "      <th>...</th>\n",
       "      <td>...</td>\n",
       "      <td>...</td>\n",
       "      <td>...</td>\n",
       "    </tr>\n",
       "    <tr>\n",
       "      <th>4968</th>\n",
       "      <td>didnt       handle  work  youre  trying  infi...</td>\n",
       "      <td>paranoid</td>\n",
       "      <td>0</td>\n",
       "    </tr>\n",
       "    <tr>\n",
       "      <th>4969</th>\n",
       "      <td>keep asking   latest research huh want  sel...</td>\n",
       "      <td>paranoid</td>\n",
       "      <td>0</td>\n",
       "    </tr>\n",
       "    <tr>\n",
       "      <th>4970</th>\n",
       "      <td>see  whispering   it’s   isn’t    always  tar...</td>\n",
       "      <td>paranoid</td>\n",
       "      <td>0</td>\n",
       "    </tr>\n",
       "    <tr>\n",
       "      <th>4971</th>\n",
       "      <td>college kids   conference   clearly envious  ...</td>\n",
       "      <td>paranoid</td>\n",
       "      <td>0</td>\n",
       "    </tr>\n",
       "    <tr>\n",
       "      <th>4972</th>\n",
       "      <td>everyone  interested   work    sudden   plot...</td>\n",
       "      <td>paranoid</td>\n",
       "      <td>0</td>\n",
       "    </tr>\n",
       "  </tbody>\n",
       "</table>\n",
       "<p>4973 rows × 3 columns</p>\n",
       "</div>"
      ],
      "text/plain": [
       "                                                   text   personality  label\n",
       "0        failed  meet several appointments  week the...  psychopathic      0\n",
       "1     mira  dont care   offended anyone  opinions  s...  psychopathic      0\n",
       "2      clients consider  tough   call   straightforw...  psychopathic      0\n",
       "3     seeking pleasure   life    chico      rules  b...  psychopathic      0\n",
       "4      say im irresponsible   occasionally dodge wor...  psychopathic      0\n",
       "...                                                 ...           ...    ...\n",
       "4968   didnt       handle  work  youre  trying  infi...      paranoid      0\n",
       "4969     keep asking   latest research huh want  sel...      paranoid      0\n",
       "4970   see  whispering   it’s   isn’t    always  tar...      paranoid      0\n",
       "4971   college kids   conference   clearly envious  ...      paranoid      0\n",
       "4972    everyone  interested   work    sudden   plot...      paranoid      0\n",
       "\n",
       "[4973 rows x 3 columns]"
      ]
     },
     "execution_count": 87,
     "metadata": {},
     "output_type": "execute_result"
    }
   ],
   "source": [
    "df_processed"
   ]
  },
  {
   "cell_type": "markdown",
   "metadata": {},
   "source": [
    "## Building the model"
   ]
  },
  {
   "cell_type": "code",
   "execution_count": null,
   "metadata": {},
   "outputs": [],
   "source": [
    "X_train, X_test, y_train, y_test = train_test_split(df_processed['text'], df_processed['label'], test_size=0.2, random_state=42)"
   ]
  }
 ],
 "metadata": {
  "kernelspec": {
   "display_name": "base",
   "language": "python",
   "name": "python3"
  },
  "language_info": {
   "codemirror_mode": {
    "name": "ipython",
    "version": 3
   },
   "file_extension": ".py",
   "mimetype": "text/x-python",
   "name": "python",
   "nbconvert_exporter": "python",
   "pygments_lexer": "ipython3",
   "version": "3.12.1"
  }
 },
 "nbformat": 4,
 "nbformat_minor": 2
}
